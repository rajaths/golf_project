{
 "cells": [
  {
   "cell_type": "code",
   "execution_count": 1,
   "metadata": {
    "collapsed": true
   },
   "outputs": [],
   "source": [
    "import math\n",
    "import matplotlib.pyplot as pyplot\n",
    "import numpy as np"
   ]
  },
  {
   "cell_type": "code",
   "execution_count": 2,
   "metadata": {
    "collapsed": true
   },
   "outputs": [],
   "source": [
    "def camber_line( x, m, p, c ):\n",
    "    return np.where((x>=0)&(x<=(c*p)),\n",
    "                    m * (x / np.power(p,2)) * (2.0 * p - (x / c)),\n",
    "                    m * ((c - x) / np.power(1-p,2)) * (1.0 + (x / c) - 2.0 * p ))"
   ]
  },
  {
   "cell_type": "code",
   "execution_count": 3,
   "metadata": {
    "collapsed": true
   },
   "outputs": [],
   "source": [
    "def dyc_over_dx( x, m, p, c ):\n",
    "    return np.where((x>=0)&(x<=(c*p)),\n",
    "                    ((2.0 * m) / np.power(p,2)) * (p - x / c),\n",
    "                    ((2.0 * m ) / np.power(1-p,2)) * (p - x / c ))"
   ]
  },
  {
   "cell_type": "code",
   "execution_count": 4,
   "metadata": {
    "collapsed": true
   },
   "outputs": [],
   "source": [
    "def thickness( x, t, c ):\n",
    "    term1 =  0.2969 * (np.sqrt(x/c))\n",
    "    term2 = -0.1260 * (x/c)\n",
    "    term3 = -0.3516 * np.power(x/c,2)\n",
    "    term4 =  0.2843 * np.power(x/c,3)\n",
    "    term5 = -0.1015 * np.power(x/c,4)\n",
    "    return 5 * t * c * (term1 + term2 + term3 + term4 + term5)"
   ]
  },
  {
   "cell_type": "code",
   "execution_count": 5,
   "metadata": {
    "collapsed": true
   },
   "outputs": [],
   "source": [
    "def naca4(x, m, p, t, c=1):\n",
    "    dyc_dx = dyc_over_dx(x, m, p, c)\n",
    "    th = np.arctan(dyc_dx)\n",
    "    yt = thickness(x, t, c)\n",
    "    yc = camber_line(x, m, p, c)  \n",
    "    return ((x - yt*np.sin(th), yc + yt*np.cos(th)), \n",
    "            (x + yt*np.sin(th), yc - yt*np.cos(th)))"
   ]
  },
  {
   "cell_type": "code",
   "execution_count": 8,
   "metadata": {},
   "outputs": [
    {
     "data": {
      "image/png": "[encoded data removed]",
      "text/plain": [
       "<matplotlib.figure.Figure at 0x1a3358d5f98>"
      ]
     },
     "metadata": {},
     "output_type": "display_data"
    }
   ],
   "source": [
    "#naca2412 \n",
    "m = 0.02\n",
    "p = 0.4\n",
    "t = 0.12\n",
    "c = 1.0\n",
    "\n",
    "x = np.linspace(0,1,200)\n",
    "for item in naca4(x, m, p, t, c):\n",
    "    pyplot.plot(item[0], item[1], 'b')\n",
    "pyplot.plot(x, camber_line(x, m, p, c), 'r')\n",
    "pyplot.axis('equal')\n",
    "pyplot.xlim((-0.05, 1.05))\n",
    "# figure.set_size_inches(16,16,forward=True)\n",
    "pyplot.show()\n",
    "\n",
    "itemlist = list(item)\n",
    "y_abovelist, y_belowlist = map(list, zip(itemlist))\n",
    "y_abovearray = np.squeeze(np.asarray(y_abovelist))\n",
    "y_belowarray = np.squeeze(np.asarray(y_belowlist))\n",
    "x_list = list(x)\n",
    "\n",
    "list_of_lists = list([x, y_abovearray, y_belowarray])\n",
    "\n",
    "#for a in zip(*list_of_lists):\n",
    "#    print(*a)"
   ]
  }
 ],
 "metadata": {
  "kernelspec": {
   "display_name": "Python 3",
   "language": "python",
   "name": "python3"
  },
  "language_info": {
   "codemirror_mode": {
    "name": "ipython",
    "version": 3
   },
   "file_extension": ".py",
   "mimetype": "text/x-python",
   "name": "python",
   "nbconvert_exporter": "python",
   "pygments_lexer": "ipython3",
   "version": "3.6.1"
  }
 },
 "nbformat": 4,
 "nbformat_minor": 2
}
