{
 "cells": [
  {
   "cell_type": "markdown",
   "metadata": {},
   "source": [
    "# Golf Final Project Airfoil Optimization"
   ]
  },
  {
   "cell_type": "code",
   "execution_count": 5,
   "metadata": {
    "collapsed": true
   },
   "outputs": [],
   "source": [
    "import numpy as np\n",
    "import matplotlib.pyplot as plt"
   ]
  },
  {
   "cell_type": "markdown",
   "metadata": {},
   "source": [
    "## Airfoil Generators"
   ]
  },
  {
   "cell_type": "code",
   "execution_count": 2,
   "metadata": {
    "collapsed": true
   },
   "outputs": [],
   "source": [
    "def generate_airfoil(length, x0, y0):\n",
    "    C = .15\n",
    "\n",
    "    a = np.sqrt((C-x0)**2+y0**2)\n",
    "\n",
    "    zeta = np.linspace(0, 2*np.pi, length)\n",
    "    epsilon_surf = x0 + a*np.cos(zeta)\n",
    "    epsilon_surf = epsilon_surf + C**2*epsilon_surf/((x0+a*np.cos(zeta))**2+(y0+a*np.sin(zeta))**2)\n",
    "\n",
    "    eta_surf = y0 + a*np.sin(zeta)\n",
    "    eta_surf = eta_surf - C**2*eta_surf/((x0+a*np.cos(zeta))**2+(y0+a*np.sin(zeta))**2)\n",
    "    \n",
    "    return np.column_stack((epsilon_surf + 0.3,eta_surf))"
   ]
  },
  {
   "cell_type": "code",
   "execution_count": 20,
   "metadata": {
    "collapsed": true
   },
   "outputs": [],
   "source": [
    "def generate_NACA_airfoil(length, x0, y0):\n",
    "    #\n",
    "    # To Do\n",
    "    #\n",
    "    return airfoil"
   ]
  },
  {
   "cell_type": "markdown",
   "metadata": {},
   "source": [
    "## Xfoil Interface"
   ]
  },
  {
   "cell_type": "code",
   "execution_count": null,
   "metadata": {
    "collapsed": true
   },
   "outputs": [],
   "source": [
    "def read_airfoil(filename):\n",
    "    file = open(filename,'r')\n",
    "    lines = file.readlines()\n",
    "\n",
    "    matrix = np.zeros((len(lines),2))\n",
    "\n",
    "    n = 0\n",
    "    for line in lines:\n",
    "        if n != 0:\n",
    "            tmp = line.strip()\n",
    "            tmp = tmp.split(\" \")\n",
    "            matrix[n - 1][0], matrix[n - 1][1] = tmp[0], tmp[len(tmp)-1]\n",
    "        n += 1\n",
    "\n",
    "    return matrix"
   ]
  },
  {
   "cell_type": "code",
   "execution_count": null,
   "metadata": {
    "collapsed": true
   },
   "outputs": [],
   "source": [
    "def write_airfoil(airfoil, name):\n",
    "    "
   ]
  },
  {
   "cell_type": "code",
   "execution_count": null,
   "metadata": {
    "collapsed": true
   },
   "outputs": [],
   "source": [
    "def run_xfoil(name, n_crit, Re):\n",
    "    #\n",
    "    # Still Needs to be debugged \n",
    "    #\n",
    "    xfoil_ps = sp.call(r'xfoil.exe', stdin=sp.PIPE, stderr=None, stdout=None)\n",
    "    xfoil_ps.stdin.write(('load '+name+'.dat \\n').encode('ascii'))\n",
    "    xfoil_ps.stdin.write(('OPER').encode('ascii'))\n",
    "    xfoil_ps.stdin.write(('Vpar').encode('ascii'))\n",
    "    xfoil_ps.stdin.write(('N '+str(n_crit)).encode('ascii'))\n",
    "    xfoil_ps.stdin.write((' ').encode('ascii'))\n",
    "    xfoil_ps.stdin.write(('visc '+str(Re)).encode('ascii'))\n",
    "    xfoil_ps.stdin.write(('PACC').encode('ascii'))\n",
    "    xfoil_ps.stdin.write((name+'.log').encode('ascii'))  # output file\n",
    "    xfoil_ps.stdin.write((' ').encode('ascii'))          # no dump file\n",
    "    xfoil_ps.stdin.write(('aseq 0.0 15.0 1.0').encode('ascii'))\n",
    "    xfoil_ps.stdin.write((' ').encode('ascii'))     # escape OPER\n",
    "    xfoil_ps.stdin.write(('quit').encode('ascii'))  # exit\n",
    "    xfoil_ps.stdin.close()\n",
    "    xfoil_ps.kill()"
   ]
  },
  {
   "cell_type": "markdown",
   "metadata": {},
   "source": [
    "## XFlyr Interface"
   ]
  },
  {
   "cell_type": "code",
   "execution_count": null,
   "metadata": {
    "collapsed": true
   },
   "outputs": [],
   "source": [
    "#\n",
    "# If we have time we should do this too but it would involve modifing \n",
    "# XFlyr's source code\n",
    "#"
   ]
  },
  {
   "cell_type": "markdown",
   "metadata": {},
   "source": [
    "## VEGA Algorithm"
   ]
  },
  {
   "cell_type": "markdown",
   "metadata": {},
   "source": [
    "### Initial Population Generation"
   ]
  },
  {
   "cell_type": "code",
   "execution_count": 19,
   "metadata": {
    "collapsed": true
   },
   "outputs": [],
   "source": [
    "def generate_initial_population(population_size, num_of_pts):\n",
    "    population = []\n",
    "    x = np.linspace(-0.001, -0.1, population_size)\n",
    "    i = 0\n",
    "    while i < population_size:\n",
    "        # This could change depending on what sort of starting\n",
    "        # conditions we have\n",
    "        population.append(generate_airfoil(num_of_pts, x[i], 0))\n",
    "        i+=1\n",
    "    return population"
   ]
  },
  {
   "cell_type": "markdown",
   "metadata": {},
   "source": [
    "### Fitness Calculation"
   ]
  },
  {
   "cell_type": "code",
   "execution_count": null,
   "metadata": {
    "collapsed": true
   },
   "outputs": [],
   "source": [
    "def compute_airfoil_fitness_conditionA(airfoil):\n",
    "    #\n",
    "    # To Do Involves Running Xfoil\n",
    "    #\n",
    "    return airfoil"
   ]
  },
  {
   "cell_type": "code",
   "execution_count": null,
   "metadata": {
    "collapsed": true
   },
   "outputs": [],
   "source": [
    "def compute_airfoil_fitness_conditionA(airfoil):\n",
    "    #\n",
    "    # To Do Involves Running Xfoil\n",
    "    #\n",
    "    return airfoil"
   ]
  },
  {
   "cell_type": "markdown",
   "metadata": {},
   "source": [
    "### Crossover"
   ]
  },
  {
   "cell_type": "code",
   "execution_count": null,
   "metadata": {
    "collapsed": true
   },
   "outputs": [],
   "source": [
    "def airfoil_crossover(airfoil1, airfoil2):\n",
    "    child = []\n",
    "    for i in range(len(individual1)):\n",
    "        if (int(100 * random.random()) < 50):\n",
    "            child.append(airfoil1[i])\n",
    "        else:\n",
    "            child.append(airfoil2[i])\n",
    "    return child"
   ]
  },
  {
   "cell_type": "code",
   "execution_count": null,
   "metadata": {
    "collapsed": true
   },
   "outputs": [],
   "source": [
    "def select_best_airfoils(sorted_population):\n",
    "    next_generation = []\n",
    "    "
   ]
  },
  {
   "cell_type": "code",
   "execution_count": null,
   "metadata": {
    "collapsed": true
   },
   "outputs": [],
   "source": [
    "def population_crossover(population):\n",
    "    #\n",
    "    # To Do\n",
    "    #\n",
    "    return population"
   ]
  },
  {
   "cell_type": "markdown",
   "metadata": {},
   "source": [
    "### Mutation"
   ]
  },
  {
   "cell_type": "code",
   "execution_count": null,
   "metadata": {
    "collapsed": true
   },
   "outputs": [],
   "source": [
    "def airfoil_mutation(airfoil):\n",
    "    index_modification = int(random.random() * len(airfoil))\n",
    "    \n",
    "    return airfoil"
   ]
  },
  {
   "cell_type": "code",
   "execution_count": 25,
   "metadata": {
    "collapsed": true
   },
   "outputs": [],
   "source": [
    "def population_mutation(airfoil_population, mutation_probability):\n",
    "    for i in range(len(airfoil_population)):\n",
    "        if random.random() * 100 < mutation_probability:\n",
    "            airfoil_population[i] = airfoil_mutation(airfoil_population[i])\n",
    "    return airfoil_population"
   ]
  },
  {
   "cell_type": "markdown",
   "metadata": {},
   "source": [
    "### VEGA Main Loop"
   ]
  },
  {
   "cell_type": "code",
   "execution_count": 27,
   "metadata": {
    "collapsed": true
   },
   "outputs": [],
   "source": [
    "def VEGA(population_size, num_of_pts, num_generations, tol):\n",
    "    population = generate_initial_population(population_size, num_of_pts)\n",
    "    best_fitness = 100; # just an arbitrary number\n",
    "    \n",
    "    K = 2\n",
    "    Ns = population_size/K\n",
    "    \n",
    "    n = 0\n",
    "    while n < num_generations or best_fitness < tol:\n",
    "        \n",
    "        \n",
    "        \n",
    "        breeders = select_best_airfoils(population)\n",
    "        population = population_crossover(breeders)\n",
    "        population = population_mutation(population)\n",
    "        n += 1\n",
    "            \n",
    "    return population"
   ]
  },
  {
   "cell_type": "markdown",
   "metadata": {},
   "source": [
    "## Diagnostics/Extra Tools"
   ]
  },
  {
   "cell_type": "code",
   "execution_count": 21,
   "metadata": {
    "collapsed": true
   },
   "outputs": [],
   "source": [
    "def plot_airfoil(airfoil):\n",
    "    plt.plot(airfoil[:,0], airfoil[:,1])\n",
    "    plt.axis('equal')\n",
    "    plt.show()"
   ]
  },
  {
   "cell_type": "code",
   "execution_count": 22,
   "metadata": {
    "collapsed": true
   },
   "outputs": [],
   "source": [
    "def sample_fitness_function(true_airfoil, test_airfoil):\n",
    "    tol = 0.1\n",
    "    score = 0\n",
    "    i = 0\n",
    "    while (i < len(true_airfoil)):\n",
    "        if ((true_airfoil[i][0]-tol) <= test_airfoil[i][0] <= (true_airfoil[i][0]+tol) and \n",
    "            (true_airfoil[i][1]-tol) <= test_airfoil[i][1] <= (true_airfoil[i][1]+tol) ):\n",
    "            score+=1\n",
    "        i+=1\n",
    "    return score * 100 / len(true_airfoil)"
   ]
  },
  {
   "cell_type": "markdown",
   "metadata": {},
   "source": [
    "## Test Area"
   ]
  },
  {
   "cell_type": "code",
   "execution_count": 24,
   "metadata": {},
   "outputs": [
    {
     "data": {
      "image/png": "[encoded data removed]",
      "text/plain": [
       "<matplotlib.figure.Figure at 0x1e52fd5f4a8>"
      ]
     },
     "metadata": {},
     "output_type": "display_data"
    }
   ],
   "source": [
    "#\n",
    "# Area to test functions\n",
    "#\n",
    "\n",
    "plot_airfoil(generate_airfoil(100, -0.01, 0))"
   ]
  }
 ],
 "metadata": {
  "kernelspec": {
   "display_name": "Python 3",
   "language": "python",
   "name": "python3"
  },
  "language_info": {
   "codemirror_mode": {
    "name": "ipython",
    "version": 3
   },
   "file_extension": ".py",
   "mimetype": "text/x-python",
   "name": "python",
   "nbconvert_exporter": "python",
   "pygments_lexer": "ipython3",
   "version": "3.6.1"
  }
 },
 "nbformat": 4,
 "nbformat_minor": 2
}
