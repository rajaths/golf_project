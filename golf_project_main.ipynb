{
 "cells": [
  {
   "cell_type": "markdown",
   "metadata": {},
   "source": [
    "# Golf Final Project Airfoil Optimization"
   ]
  },
  {
   "cell_type": "code",
   "execution_count": 26,
   "metadata": {
    "collapsed": true
   },
   "outputs": [],
   "source": [
    "import numpy as np\n",
    "import matplotlib.pyplot as plt\n",
    "import random"
   ]
  },
  {
   "cell_type": "markdown",
   "metadata": {},
   "source": [
    "## Airfoil Generators"
   ]
  },
  {
   "cell_type": "code",
   "execution_count": 2,
   "metadata": {
    "collapsed": true
   },
   "outputs": [],
   "source": [
    "def generate_airfoil(length, x0, y0):\n",
    "    C = .15\n",
    "\n",
    "    a = np.sqrt((C-x0)**2+y0**2)\n",
    "\n",
    "    zeta = np.linspace(0, 2*np.pi, length)\n",
    "    epsilon_surf = x0 + a*np.cos(zeta)\n",
    "    epsilon_surf = epsilon_surf + C**2*epsilon_surf/((x0+a*np.cos(zeta))**2+(y0+a*np.sin(zeta))**2)\n",
    "\n",
    "    eta_surf = y0 + a*np.sin(zeta)\n",
    "    eta_surf = eta_surf - C**2*eta_surf/((x0+a*np.cos(zeta))**2+(y0+a*np.sin(zeta))**2)\n",
    "    \n",
    "    return np.column_stack((epsilon_surf + 0.3,eta_surf))"
   ]
  },
  {
   "cell_type": "code",
   "execution_count": 3,
   "metadata": {
    "collapsed": true
   },
   "outputs": [],
   "source": [
    "def generate_NACA_airfoil(length, x0, y0):\n",
    "    #\n",
    "    # To Do\n",
    "    #\n",
    "    return airfoil"
   ]
  },
  {
   "cell_type": "markdown",
   "metadata": {},
   "source": [
    "## Xfoil Interface"
   ]
  },
  {
   "cell_type": "code",
   "execution_count": 4,
   "metadata": {
    "collapsed": true
   },
   "outputs": [],
   "source": [
    "def read_airfoil(filename):\n",
    "    file = open(filename,'r')\n",
    "    lines = file.readlines()\n",
    "\n",
    "    matrix = np.zeros((len(lines),2))\n",
    "\n",
    "    n = 0\n",
    "    for line in lines:\n",
    "        if n != 0:\n",
    "            tmp = line.strip()\n",
    "            tmp = tmp.split(\" \")\n",
    "            matrix[n - 1][0], matrix[n - 1][1] = tmp[0], tmp[len(tmp)-1]\n",
    "        n += 1\n",
    "\n",
    "    return matrix"
   ]
  },
  {
   "cell_type": "code",
   "execution_count": 5,
   "metadata": {
    "collapsed": true
   },
   "outputs": [],
   "source": [
    "def write_airfoil(airfoil, name):\n",
    "    file = open(name + '.dat', 'w')\n",
    "    file.write(name)\n",
    "    for x in airfoil:\n",
    "        file.write(str(x[0]) + ' ' + str(x[1]) + '\\n')\n",
    "    \n",
    "    file.close()"
   ]
  },
  {
   "cell_type": "code",
   "execution_count": 6,
   "metadata": {
    "collapsed": true
   },
   "outputs": [],
   "source": [
    "def run_xfoil(name, n_crit, Re):\n",
    "    #\n",
    "    # Still Needs to be debugged \n",
    "    #\n",
    "    xfoil_ps = sp.call(r'xfoil.exe', stdin=sp.PIPE, stderr=None, stdout=None)\n",
    "    xfoil_ps.stdin.write(('load '+name+'.dat \\n').encode('ascii'))\n",
    "    xfoil_ps.stdin.write(('OPER').encode('ascii'))\n",
    "    xfoil_ps.stdin.write(('Vpar').encode('ascii'))\n",
    "    xfoil_ps.stdin.write(('N '+str(n_crit)).encode('ascii'))\n",
    "    xfoil_ps.stdin.write((' ').encode('ascii'))\n",
    "    xfoil_ps.stdin.write(('visc '+str(Re)).encode('ascii'))\n",
    "    xfoil_ps.stdin.write(('PACC').encode('ascii'))\n",
    "    xfoil_ps.stdin.write((name+'.log').encode('ascii'))  # output file\n",
    "    xfoil_ps.stdin.write((' ').encode('ascii'))          # no dump file\n",
    "    xfoil_ps.stdin.write(('aseq 0.0 15.0 1.0').encode('ascii'))\n",
    "    xfoil_ps.stdin.write((' ').encode('ascii'))     # escape OPER\n",
    "    xfoil_ps.stdin.write(('quit').encode('ascii'))  # exit\n",
    "    xfoil_ps.stdin.close()\n",
    "    xfoil_ps.kill()"
   ]
  },
  {
   "cell_type": "markdown",
   "metadata": {},
   "source": [
    "## XFlyr Interface"
   ]
  },
  {
   "cell_type": "code",
   "execution_count": 7,
   "metadata": {
    "collapsed": true
   },
   "outputs": [],
   "source": [
    "#\n",
    "# If we have time we should do this too but it would involve modifing \n",
    "# XFlyr's source code\n",
    "#"
   ]
  },
  {
   "cell_type": "markdown",
   "metadata": {},
   "source": [
    "## VEGA Algorithm"
   ]
  },
  {
   "cell_type": "markdown",
   "metadata": {},
   "source": [
    "### Initial Population Generation"
   ]
  },
  {
   "cell_type": "code",
   "execution_count": 8,
   "metadata": {
    "collapsed": true
   },
   "outputs": [],
   "source": [
    "def generate_initial_population(population_size, num_of_pts):\n",
    "    population = []\n",
    "    x = np.linspace(-0.001, -0.1, population_size)\n",
    "    i = 0\n",
    "    while i < population_size:\n",
    "        # This could change depending on what sort of starting\n",
    "        # conditions we have\n",
    "        population.append(generate_airfoil(num_of_pts, x[i], 0))\n",
    "        i+=1\n",
    "    return population"
   ]
  },
  {
   "cell_type": "markdown",
   "metadata": {},
   "source": [
    "### Fitness Calculation"
   ]
  },
  {
   "cell_type": "code",
   "execution_count": 9,
   "metadata": {
    "collapsed": true
   },
   "outputs": [],
   "source": [
    "def compute_airfoil_fitness_conditionA(airfoil):\n",
    "    #\n",
    "    # To Do Involves Running Xfoil\n",
    "    #\n",
    "    return airfoil"
   ]
  },
  {
   "cell_type": "code",
   "execution_count": 10,
   "metadata": {
    "collapsed": true
   },
   "outputs": [],
   "source": [
    "def compute_airfoil_fitness_conditionA(airfoil):\n",
    "    #\n",
    "    # To Do Involves Running Xfoil\n",
    "    #\n",
    "    return airfoil"
   ]
  },
  {
   "cell_type": "markdown",
   "metadata": {},
   "source": [
    "### Crossover"
   ]
  },
  {
   "cell_type": "code",
   "execution_count": 54,
   "metadata": {},
   "outputs": [],
   "source": [
    "def airfoil_crossover(airfoil1, airfoil2):\n",
    "    child = []\n",
    "    for i in range(len(airfoil1)):\n",
    "        if (int(100 * random.random()) < 50):\n",
    "            child.append([airfoil1[i,0], airfoil1[i,1]])\n",
    "        else:\n",
    "            child.append([airfoil2[i,0], airfoil2[i,1]])\n",
    "    return child"
   ]
  },
  {
   "cell_type": "code",
   "execution_count": 12,
   "metadata": {
    "collapsed": true
   },
   "outputs": [],
   "source": [
    "def select_best_airfoils(sorted_population):\n",
    "    #\n",
    "    # To Do may be different depending on the algorithm chosen\n",
    "    #\n",
    "    next_generation = []\n",
    "    "
   ]
  },
  {
   "cell_type": "code",
   "execution_count": 13,
   "metadata": {
    "collapsed": true
   },
   "outputs": [],
   "source": [
    "def population_crossover(population):\n",
    "    #\n",
    "    # To Do\n",
    "    #\n",
    "    return population"
   ]
  },
  {
   "cell_type": "markdown",
   "metadata": {},
   "source": [
    "### Mutation"
   ]
  },
  {
   "cell_type": "code",
   "execution_count": 14,
   "metadata": {
    "collapsed": true
   },
   "outputs": [],
   "source": [
    "def airfoil_mutation(airfoil):\n",
    "    #\n",
    "    # To Do\n",
    "    #\n",
    "    index_modification = int(random.random() * len(airfoil))\n",
    "    \n",
    "    return airfoil"
   ]
  },
  {
   "cell_type": "code",
   "execution_count": 15,
   "metadata": {
    "collapsed": true
   },
   "outputs": [],
   "source": [
    "def population_mutation(airfoil_population, mutation_probability):\n",
    "    for i in range(len(airfoil_population)):\n",
    "        if random.random() * 100 < mutation_probability:\n",
    "            airfoil_population[i] = airfoil_mutation(airfoil_population[i])\n",
    "    return airfoil_population"
   ]
  },
  {
   "cell_type": "markdown",
   "metadata": {},
   "source": [
    "### VEGA Main Loop"
   ]
  },
  {
   "cell_type": "code",
   "execution_count": 16,
   "metadata": {
    "collapsed": true
   },
   "outputs": [],
   "source": [
    "def VEGA(population_size, num_of_pts, num_generations, tol):\n",
    "    #\n",
    "    #\n",
    "    # I am still working on this\n",
    "    #\n",
    "    #\n",
    "    population = generate_initial_population(population_size, num_of_pts)\n",
    "    best_fitness = 100; # just an arbitrary number\n",
    "    \n",
    "    K = 2\n",
    "    Ns = population_size/K\n",
    "    \n",
    "    n = 0\n",
    "    while n < num_generations or best_fitness < tol:\n",
    "        #\n",
    "        # This is to find the best fit\n",
    "        #\n",
    "        breeders = select_best_airfoils(population)\n",
    "        population = population_crossover(breeders)\n",
    "        population = population_mutation(population)\n",
    "        n += 1\n",
    "            \n",
    "    return population"
   ]
  },
  {
   "cell_type": "markdown",
   "metadata": {},
   "source": [
    "## Diagnostics/Extra Tools"
   ]
  },
  {
   "cell_type": "code",
   "execution_count": 17,
   "metadata": {
    "collapsed": true
   },
   "outputs": [],
   "source": [
    "def plot_airfoil(airfoil):\n",
    "    plt.plot(airfoil[:,0], airfoil[:,1])\n",
    "    plt.axis('equal')\n",
    "    plt.show()"
   ]
  },
  {
   "cell_type": "code",
   "execution_count": 18,
   "metadata": {
    "collapsed": true
   },
   "outputs": [],
   "source": [
    "def sample_fitness_function(true_airfoil, test_airfoil):\n",
    "    tol = 0.1\n",
    "    score = 0\n",
    "    i = 0\n",
    "    while (i < len(true_airfoil)):\n",
    "        if ((true_airfoil[i][0]-tol) <= test_airfoil[i][0] <= (true_airfoil[i][0]+tol) and \n",
    "            (true_airfoil[i][1]-tol) <= test_airfoil[i][1] <= (true_airfoil[i][1]+tol) ):\n",
    "            score+=1\n",
    "        i+=1\n",
    "    return score * 100 / len(true_airfoil)"
   ]
  },
  {
   "cell_type": "markdown",
   "metadata": {},
   "source": [
    "## Test Area"
   ]
  },
  {
   "cell_type": "code",
   "execution_count": 57,
   "metadata": {},
   "outputs": [
    {
     "data": {
      "image/png": "[encoded data removed]",
      "text/plain": [
       "<matplotlib.figure.Figure at 0x20860ba55c0>"
      ]
     },
     "metadata": {},
     "output_type": "display_data"
    },
    {
     "data": {
      "image/png": "[encoded data removed]",
      "text/plain": [
       "<matplotlib.figure.Figure at 0x20860b10080>"
      ]
     },
     "metadata": {},
     "output_type": "display_data"
    },
    {
     "name": "stdout",
     "output_type": "stream",
     "text": [
      "[[  6.00000000e-01   0.00000000e+00]\n",
      " [  5.99355112e-01   1.36328700e-06]\n",
      " [  5.97423595e-01   1.08688656e-05]\n",
      " [  5.94214874e-01   3.64727711e-05]\n",
      " [  5.89744575e-01   8.57626821e-05]\n",
      " [  5.84034411e-01   1.65784016e-04]\n",
      " [  5.77112016e-01   2.82878038e-04]\n",
      " [  5.69010749e-01   4.42535467e-04]\n",
      " [  5.59769443e-01   6.49268659e-04]\n",
      " [  5.49432134e-01   9.06504935e-04]\n",
      " [  5.38047747e-01   1.21650310e-03]\n",
      " [  5.25669762e-01   1.58029457e-03]\n",
      " [  5.12355858e-01   1.99765001e-03]\n",
      " [  4.98167531e-01   2.46707158e-03]\n",
      " [  4.83169707e-01   2.98581065e-03]\n",
      " [  4.67430343e-01   3.54990982e-03]\n",
      " [  4.51020022e-01   4.15426811e-03]\n",
      " [  4.34011550e-01   4.79272722e-03]\n",
      " [  4.16479550e-01   5.45817682e-03]\n",
      " [  3.98500071e-01   6.14267625e-03]\n",
      " [  3.80150198e-01   6.83758994e-03]\n",
      " [  3.61507679e-01   7.53373360e-03]\n",
      " [  3.42650560e-01   8.22152830e-03]\n",
      " [  3.23656842e-01   8.89115935e-03]\n",
      " [  3.04604150e-01   9.53273718e-03]\n",
      " [  2.85569420e-01   1.01364573e-02]\n",
      " [  2.66628604e-01   1.06927570e-02]\n",
      " [  2.47856394e-01   1.11924657e-02]\n",
      " [  2.29325965e-01   1.16269476e-02]\n",
      " [  2.11108734e-01   1.19882338e-02]\n",
      " [  1.93274136e-01   1.22691429e-02]\n",
      " [  1.75889421e-01   1.24633885e-02]\n",
      " [  1.59019463e-01   1.25656716e-02]\n",
      " [  1.42726586e-01   1.25717585e-02]\n",
      " [  1.27070408e-01   1.24785422e-02]\n",
      " [  1.12107691e-01   1.22840877e-02]\n",
      " [  9.78922158e-02   1.19876611e-02]\n",
      " [  8.44746565e-02   1.15897418e-02]\n",
      " [  7.19024762e-02   1.10920184e-02]\n",
      " [  6.02198283e-02   1.04973701e-02]\n",
      " [  4.94674699e-02   9.80983139e-03]\n",
      " [  3.96826840e-02   9.03454351e-03]\n",
      " [  3.08992106e-02   8.17769202e-03]\n",
      " [  2.31471865e-02   7.24643193e-03]\n",
      " [  1.64530920e-02   6.24880144e-03]\n",
      " [  1.08397064e-02   5.19362544e-03]\n",
      " [  6.32606917e-03   4.09041007e-03]\n",
      " [  2.92744898e-03   2.94922944e-03]\n",
      " [  6.55318823e-04   1.78060615e-03]\n",
      " [ -4.82662484e-04   5.95386679e-04]\n",
      " [ -4.82662484e-04  -5.95386679e-04]\n",
      " [  6.55318823e-04  -1.78060615e-03]\n",
      " [  2.92744898e-03  -2.94922944e-03]\n",
      " [  6.32606917e-03  -4.09041007e-03]\n",
      " [  1.08397064e-02  -5.19362544e-03]\n",
      " [  1.64530920e-02  -6.24880144e-03]\n",
      " [  2.31471865e-02  -7.24643193e-03]\n",
      " [  3.08992106e-02  -8.17769202e-03]\n",
      " [  3.96826840e-02  -9.03454351e-03]\n",
      " [  4.94674699e-02  -9.80983139e-03]\n",
      " [  6.02198283e-02  -1.04973701e-02]\n",
      " [  7.19024762e-02  -1.10920184e-02]\n",
      " [  8.44746565e-02  -1.15897418e-02]\n",
      " [  9.78922158e-02  -1.19876611e-02]\n",
      " [  1.12107691e-01  -1.22840877e-02]\n",
      " [  1.27070408e-01  -1.24785422e-02]\n",
      " [  1.42726586e-01  -1.25717585e-02]\n",
      " [  1.59019463e-01  -1.25656716e-02]\n",
      " [  1.75889421e-01  -1.24633885e-02]\n",
      " [  1.93274136e-01  -1.22691429e-02]\n",
      " [  2.11108734e-01  -1.19882338e-02]\n",
      " [  2.29325965e-01  -1.16269476e-02]\n",
      " [  2.47856394e-01  -1.11924657e-02]\n",
      " [  2.66628604e-01  -1.06927570e-02]\n",
      " [  2.85569420e-01  -1.01364573e-02]\n",
      " [  3.04604150e-01  -9.53273718e-03]\n",
      " [  3.23656842e-01  -8.89115935e-03]\n",
      " [  3.42650560e-01  -8.22152830e-03]\n",
      " [  3.61507679e-01  -7.53373360e-03]\n",
      " [  3.80150198e-01  -6.83758994e-03]\n",
      " [  3.98500071e-01  -6.14267625e-03]\n",
      " [  4.16479550e-01  -5.45817682e-03]\n",
      " [  4.34011550e-01  -4.79272722e-03]\n",
      " [  4.51020022e-01  -4.15426811e-03]\n",
      " [  4.67430343e-01  -3.54990982e-03]\n",
      " [  4.83169707e-01  -2.98581065e-03]\n",
      " [  4.98167531e-01  -2.46707158e-03]\n",
      " [  5.12355858e-01  -1.99765001e-03]\n",
      " [  5.25669762e-01  -1.58029457e-03]\n",
      " [  5.38047747e-01  -1.21650310e-03]\n",
      " [  5.49432134e-01  -9.06504935e-04]\n",
      " [  5.59769443e-01  -6.49268659e-04]\n",
      " [  5.69010749e-01  -4.42535467e-04]\n",
      " [  5.77112016e-01  -2.82878038e-04]\n",
      " [  5.84034411e-01  -1.65784016e-04]\n",
      " [  5.89744575e-01  -8.57626821e-05]\n",
      " [  5.94214874e-01  -3.64727711e-05]\n",
      " [  5.97423595e-01  -1.08688656e-05]\n",
      " [  5.99355112e-01  -1.36328700e-06]\n",
      " [  6.00000000e-01   0.00000000e+00]]\n",
      "[[0.59999999999999998, 0.0], [0.58920975200673464, 0.0022659921549307432], [0.56223954100027496, 0.015517818008370585], [0.52908690961214544, 0.042193025531850961], [0.49623394136168769, 0.078483767039361885], [0.46567376955616868, 0.11977941421265223], [0.57711201616739038, 0.00028287803792600985], [0.56901074887696723, 0.00044253546708042379], [0.55976944319152144, 0.00064926865886738572], [0.35519551966317942, 0.28850640569050118], [0.53804774651908094, 0.0012165030992138948], [0.29766194798864104, 0.36396129090753027], [0.51235585785887627, 0.0019976500089893962], [0.23529903015025691, 0.43107058026770156], [0.48316970657887981, 0.0029858106460400324], [0.16767315339617481, 0.48915401418670501], [0.13196492703827764, 0.51464080004567303], [0.43401155001364633, 0.0047927272248874941], [0.057163088978619658, 0.55820732861421984], [0.39850007126311038, 0.0061426762513204225], [0.38015019842786429, 0.0068375899378371185], [-0.061782065090940308, 0.60430619342081948], [0.342650559705304, 0.0082215283046227217], [0.32365684190358057, 0.008891159354995487], [0.3046041500135333, 0.0095327371799920069], [-0.22712866910049662, 0.62850212652413884], [-0.26865172176222391, 0.62781920939908475], [0.24785639377884999, 0.011192465745372165], [0.2293259651184415, 0.011626947602968979], [-0.39111862879560072, 0.60982948468000853], [-0.43070904957368744, 0.59863565484863057], [0.1758894211899415, 0.012463388520519786], [0.15901946289509189, 0.012565671632028902], [0.14272658610271896, 0.012571758505088307], [-0.57878913650908159, 0.52937789452571138], [0.11210769107808316, 0.012284087716445583], [0.097892215764554175, 0.011987661149586853], [0.084474656546889182, 0.011589741763705738], [-0.70356708499769538, 0.42497102147726867], [-0.73015486242435612, 0.39416407154010263], [-0.75467652944354557, 0.36172301144232827], [-0.77703421615164192, 0.32778349449856686], [-0.79713864522373878, 0.29248703102155899], [0.023147186485953708, 0.0072464319289258991], [-0.83027577478451287, 0.21841529545039837], [-0.84317603496652471, 0.17994730634323527], [0.0063260691703775351, 0.0040904100703033665], [0.0029274489814745674, 0.0029492294424262946], [0.00065531882268293762, 0.0017806061465819069], [-0.00048266248386369393, 0.00059538667918716294], [-0.00048266248386369393, -0.00059538667918716641], [-0.86661542107791201, -0.060732896623842458], [-0.86138226400148454, -0.10094277880207671], [0.0063260691703774796, -0.0040904100703033561], [0.010839706418219408, -0.0051936254444737082], [-0.83027577478451287, -0.21841529545039826], [-0.81490950339749224, -0.25598044303589845], [0.030899210621112727, -0.0081776920216887483], [-0.7770342161516417, -0.32778349449856692], [-0.7546765294435458, -0.3617230114423281], [0.060219828310488471, -0.010497370111319654], [0.071902476228450085, -0.01109201842241643], [0.08447465654688921, -0.011589741763705752], [-0.64462515433530387, -0.48117234864150482], [0.11210769107808322, -0.012284087716445583], [0.1270704075591354, -0.012478542166362114], [0.14272658610271913, -0.012571758505088307], [0.15901946289509195, -0.01256567163202893], [-0.46942213621175305, -0.58492540140024807], [-0.43070904957368755, -0.59863565484863057], [-0.3911186287956005, -0.60982948468000853], [0.22932596511844155, -0.011626947602968979], [-0.30993114627081214, -0.62446099514056941], [0.26662860352633633, -0.010692757038920142], [0.28556941978062256, -0.01013645733694582], [-0.18552215859148574, -0.62649401053454112], [-0.14399132364665934, -0.62178855274693612], [-0.10269328233396929, -0.61438866498984102], [-0.061782065090940197, -0.60430619342081948], [-0.021407416545394131, -0.59156154737303424], [0.018286575102193614, -0.57618323854093456], [0.41647955023212946, -0.0054581768227907335], [0.095094522183794994, -0.53767679016651415], [0.13196492703827764, -0.51464080004567303], [0.46743034278991141, -0.0035499098211288771], [0.48316970657887992, -0.0029858106460400186], [0.23529903015025702, -0.4310705802677014], [0.26713430433432889, -0.39860697214518725], [0.52566976214452676, -0.0015802945740481245], [0.32696133652871368, -0.3272226725296799], [0.549432133806248, -0.00090650493533397936], [0.55976944319152144, -0.00064926865886735796], [0.40974514727373124, -0.20593309698710058], [0.43713959944775471, -0.16287371778843235], [0.46567376955616868, -0.1197794142126522], [0.49623394136168764, -0.07848376703936201], [0.59421487426568165, -3.6472771117082581e-05], [0.56223954100027496, -0.015517818008370488], [0.58920975200673464, -0.0022659921549307502], [0.59999999999999998, 0.0]]\n"
     ]
    }
   ],
   "source": [
    "#\n",
    "# Area to test functions\n",
    "#\n",
    "airfoil1 = generate_airfoil(100,-0.005, 0)\n",
    "airfoil2 = generate_airfoil(100,-0.5, 0)\n",
    "plot_airfoil(airfoil1)\n",
    "plot_airfoil(airfoil2)\n",
    "airfoil3 = airfoil_crossover(airfoil1, airfoil2)\n",
    "print(airfoil1)\n",
    "print(airfoil3)"
   ]
  },
  {
   "cell_type": "code",
   "execution_count": 58,
   "metadata": {},
   "outputs": [
    {
     "data": {
      "text/plain": [
       "array([[  6.00000000e-01,   5.89209752e-01,   5.62239541e-01,\n",
       "          5.29086910e-01,   4.96233941e-01,   4.65673770e-01,\n",
       "          5.77112016e-01,   5.69010749e-01,   5.59769443e-01,\n",
       "          3.55195520e-01,   5.38047747e-01,   2.97661948e-01,\n",
       "          5.12355858e-01,   2.35299030e-01,   4.83169707e-01,\n",
       "          1.67673153e-01,   1.31964927e-01,   4.34011550e-01,\n",
       "          5.71630890e-02,   3.98500071e-01,   3.80150198e-01,\n",
       "         -6.17820651e-02,   3.42650560e-01,   3.23656842e-01,\n",
       "          3.04604150e-01,  -2.27128669e-01,  -2.68651722e-01,\n",
       "          2.47856394e-01,   2.29325965e-01,  -3.91118629e-01,\n",
       "         -4.30709050e-01,   1.75889421e-01,   1.59019463e-01,\n",
       "          1.42726586e-01,  -5.78789137e-01,   1.12107691e-01,\n",
       "          9.78922158e-02,   8.44746565e-02,  -7.03567085e-01,\n",
       "         -7.30154862e-01,  -7.54676529e-01,  -7.77034216e-01,\n",
       "         -7.97138645e-01,   2.31471865e-02,  -8.30275775e-01,\n",
       "         -8.43176035e-01,   6.32606917e-03,   2.92744898e-03,\n",
       "          6.55318823e-04,  -4.82662484e-04,  -4.82662484e-04,\n",
       "         -8.66615421e-01,  -8.61382264e-01,   6.32606917e-03,\n",
       "          1.08397064e-02,  -8.30275775e-01,  -8.14909503e-01,\n",
       "          3.08992106e-02,  -7.77034216e-01,  -7.54676529e-01,\n",
       "          6.02198283e-02,   7.19024762e-02,   8.44746565e-02,\n",
       "         -6.44625154e-01,   1.12107691e-01,   1.27070408e-01,\n",
       "          1.42726586e-01,   1.59019463e-01,  -4.69422136e-01,\n",
       "         -4.30709050e-01,  -3.91118629e-01,   2.29325965e-01,\n",
       "         -3.09931146e-01,   2.66628604e-01,   2.85569420e-01,\n",
       "         -1.85522159e-01,  -1.43991324e-01,  -1.02693282e-01,\n",
       "         -6.17820651e-02,  -2.14074165e-02,   1.82865751e-02,\n",
       "          4.16479550e-01,   9.50945222e-02,   1.31964927e-01,\n",
       "          4.67430343e-01,   4.83169707e-01,   2.35299030e-01,\n",
       "          2.67134304e-01,   5.25669762e-01,   3.26961337e-01,\n",
       "          5.49432134e-01,   5.59769443e-01,   4.09745147e-01,\n",
       "          4.37139599e-01,   4.65673770e-01,   4.96233941e-01,\n",
       "          5.94214874e-01,   5.62239541e-01,   5.89209752e-01,\n",
       "          6.00000000e-01],\n",
       "       [  0.00000000e+00,   2.26599215e-03,   1.55178180e-02,\n",
       "          4.21930255e-02,   7.84837670e-02,   1.19779414e-01,\n",
       "          2.82878038e-04,   4.42535467e-04,   6.49268659e-04,\n",
       "          2.88506406e-01,   1.21650310e-03,   3.63961291e-01,\n",
       "          1.99765001e-03,   4.31070580e-01,   2.98581065e-03,\n",
       "          4.89154014e-01,   5.14640800e-01,   4.79272722e-03,\n",
       "          5.58207329e-01,   6.14267625e-03,   6.83758994e-03,\n",
       "          6.04306193e-01,   8.22152830e-03,   8.89115935e-03,\n",
       "          9.53273718e-03,   6.28502127e-01,   6.27819209e-01,\n",
       "          1.11924657e-02,   1.16269476e-02,   6.09829485e-01,\n",
       "          5.98635655e-01,   1.24633885e-02,   1.25656716e-02,\n",
       "          1.25717585e-02,   5.29377895e-01,   1.22840877e-02,\n",
       "          1.19876611e-02,   1.15897418e-02,   4.24971021e-01,\n",
       "          3.94164072e-01,   3.61723011e-01,   3.27783494e-01,\n",
       "          2.92487031e-01,   7.24643193e-03,   2.18415295e-01,\n",
       "          1.79947306e-01,   4.09041007e-03,   2.94922944e-03,\n",
       "          1.78060615e-03,   5.95386679e-04,  -5.95386679e-04,\n",
       "         -6.07328966e-02,  -1.00942779e-01,  -4.09041007e-03,\n",
       "         -5.19362544e-03,  -2.18415295e-01,  -2.55980443e-01,\n",
       "         -8.17769202e-03,  -3.27783494e-01,  -3.61723011e-01,\n",
       "         -1.04973701e-02,  -1.10920184e-02,  -1.15897418e-02,\n",
       "         -4.81172349e-01,  -1.22840877e-02,  -1.24785422e-02,\n",
       "         -1.25717585e-02,  -1.25656716e-02,  -5.84925401e-01,\n",
       "         -5.98635655e-01,  -6.09829485e-01,  -1.16269476e-02,\n",
       "         -6.24460995e-01,  -1.06927570e-02,  -1.01364573e-02,\n",
       "         -6.26494011e-01,  -6.21788553e-01,  -6.14388665e-01,\n",
       "         -6.04306193e-01,  -5.91561547e-01,  -5.76183239e-01,\n",
       "         -5.45817682e-03,  -5.37676790e-01,  -5.14640800e-01,\n",
       "         -3.54990982e-03,  -2.98581065e-03,  -4.31070580e-01,\n",
       "         -3.98606972e-01,  -1.58029457e-03,  -3.27222673e-01,\n",
       "         -9.06504935e-04,  -6.49268659e-04,  -2.05933097e-01,\n",
       "         -1.62873718e-01,  -1.19779414e-01,  -7.84837670e-02,\n",
       "         -3.64727711e-05,  -1.55178180e-02,  -2.26599215e-03,\n",
       "          0.00000000e+00]])"
      ]
     },
     "execution_count": 58,
     "metadata": {},
     "output_type": "execute_result"
    }
   ],
   "source": [
    "np.column_stack(airfoil3)"
   ]
  },
  {
   "cell_type": "code",
   "execution_count": 48,
   "metadata": {
    "collapsed": true
   },
   "outputs": [],
   "source": [
    "x.append([1,2])"
   ]
  },
  {
   "cell_type": "code",
   "execution_count": 49,
   "metadata": {},
   "outputs": [
    {
     "data": {
      "text/plain": [
       "[[1, 2]]"
      ]
     },
     "execution_count": 49,
     "metadata": {},
     "output_type": "execute_result"
    }
   ],
   "source": [
    "x"
   ]
  },
  {
   "cell_type": "code",
   "execution_count": 50,
   "metadata": {
    "collapsed": true
   },
   "outputs": [],
   "source": [
    "x.append([2,3])"
   ]
  },
  {
   "cell_type": "code",
   "execution_count": 51,
   "metadata": {},
   "outputs": [
    {
     "data": {
      "text/plain": [
       "[[1, 2], [2, 3]]"
      ]
     },
     "execution_count": 51,
     "metadata": {},
     "output_type": "execute_result"
    }
   ],
   "source": [
    "x"
   ]
  },
  {
   "cell_type": "code",
   "execution_count": null,
   "metadata": {
    "collapsed": true
   },
   "outputs": [],
   "source": []
  }
 ],
 "metadata": {
  "kernelspec": {
   "display_name": "Python 3",
   "language": "python",
   "name": "python3"
  },
  "language_info": {
   "codemirror_mode": {
    "name": "ipython",
    "version": 3
   },
   "file_extension": ".py",
   "mimetype": "text/x-python",
   "name": "python",
   "nbconvert_exporter": "python",
   "pygments_lexer": "ipython3",
   "version": "3.6.1"
  }
 },
 "nbformat": 4,
 "nbformat_minor": 2
}
