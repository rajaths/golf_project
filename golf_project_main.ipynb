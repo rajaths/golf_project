{
 "cells": [
  {
   "cell_type": "markdown",
   "metadata": {},
   "source": [
    "# Golf Final Project Airfoil Optimization"
   ]
  },
  {
   "cell_type": "code",
   "execution_count": 1,
   "metadata": {
    "collapsed": true
   },
   "outputs": [],
   "source": [
    "import numpy as np\n",
    "import matplotlib.pyplot as plt\n",
    "import random\n",
    "import subprocess as sp"
   ]
  },
  {
   "cell_type": "markdown",
   "metadata": {},
   "source": [
    "## Airfoil Generators"
   ]
  },
  {
   "cell_type": "code",
   "execution_count": 2,
   "metadata": {
    "collapsed": true
   },
   "outputs": [],
   "source": [
    "def generate_airfoil(length, x0, y0):\n",
    "    C = .15\n",
    "\n",
    "    a = np.sqrt((C-x0)**2+y0**2)\n",
    "\n",
    "    zeta = np.linspace(0, 2*np.pi, length)\n",
    "    epsilon_surf = x0 + a*np.cos(zeta)\n",
    "    epsilon_surf = epsilon_surf + C**2*epsilon_surf/((x0+a*np.cos(zeta))**2+(y0+a*np.sin(zeta))**2)\n",
    "\n",
    "    eta_surf = y0 + a*np.sin(zeta)\n",
    "    eta_surf = eta_surf - C**2*eta_surf/((x0+a*np.cos(zeta))**2+(y0+a*np.sin(zeta))**2)\n",
    "    \n",
    "    return np.column_stack((epsilon_surf + 0.3,eta_surf))"
   ]
  },
  {
   "cell_type": "code",
   "execution_count": 3,
   "metadata": {
    "collapsed": true
   },
   "outputs": [],
   "source": [
    "def generate_NACA_airfoil():\n",
    "    #\n",
    "    # To Do\n",
    "    #\n",
    "    return airfoil"
   ]
  },
  {
   "cell_type": "markdown",
   "metadata": {},
   "source": [
    "## Xfoil Interface"
   ]
  },
  {
   "cell_type": "code",
   "execution_count": 4,
   "metadata": {
    "collapsed": true
   },
   "outputs": [],
   "source": [
    "def read_airfoil(filename):\n",
    "    file = open(filename,'r')\n",
    "    lines = file.readlines()\n",
    "\n",
    "    matrix = np.zeros((len(lines),2))\n",
    "\n",
    "    n = 0\n",
    "    for line in lines:\n",
    "        if n != 0:\n",
    "            tmp = line.strip()\n",
    "            tmp = tmp.split(\" \")\n",
    "            matrix[n - 1][0], matrix[n - 1][1] = tmp[0], tmp[len(tmp)-1]\n",
    "        n += 1\n",
    "\n",
    "    return matrix"
   ]
  },
  {
   "cell_type": "code",
   "execution_count": 5,
   "metadata": {
    "collapsed": true
   },
   "outputs": [],
   "source": [
    "def write_airfoil(airfoil, name):\n",
    "    file = open(name + '.dat', 'w')\n",
    "    file.write(name + '\\n')\n",
    "    for x in airfoil:\n",
    "        file.write(str(x[0]) + ' ' + str(x[1]) + '\\n')\n",
    "    \n",
    "    file.close()"
   ]
  },
  {
   "cell_type": "code",
   "execution_count": 6,
   "metadata": {
    "collapsed": true
   },
   "outputs": [],
   "source": [
    "def run_xfoil(name, n_crit, Re):\n",
    "    #\n",
    "    # This works now, all that needs to be done\n",
    "    # is to decide what commands to run\n",
    "    #\n",
    "    xfoil_ps = sp.Popen(r'xfoil.exe', stdin=sp.PIPE, stderr=sp.PIPE, stdout=sp.PIPE)\n",
    "    xfoil_ps.stderr.close()\n",
    "    xfoil_ps.stdin.write(('load '+name+'.dat\\n').encode('ascii'))\n",
    "    xfoil_ps.stdin.write(('OPER\\n').encode('ascii'))\n",
    "    xfoil_ps.stdin.write(('Vpar\\n').encode('ascii'))\n",
    "    xfoil_ps.stdin.write(('N '+str(n_crit) + '\\n').encode('ascii'))\n",
    "    xfoil_ps.stdin.write((' \\n').encode('ascii'))\n",
    "    xfoil_ps.stdin.write(('visc '+str(Re)+ '\\n').encode('ascii'))\n",
    "    xfoil_ps.stdin.write(('PACC\\n').encode('ascii'))\n",
    "    xfoil_ps.stdin.write((name+'.log\\n').encode('ascii'))  # output file\n",
    "    xfoil_ps.stdin.write((' \\n').encode('ascii'))          # no dump file\n",
    "    xfoil_ps.stdin.write(('aseq -7.0 7.0 1.0\\n').encode('ascii'))\n",
    "    xfoil_ps.stdin.write((' \\n').encode('ascii'))     # escape OPER\n",
    "    xfoil_ps.stdin.write(('quit\\n').encode('ascii'))  # exit\n",
    "    xfoil_ps.stdout.close()\n",
    "    xfoil_ps.stdin.close()\n",
    "    xfoil_ps.wait()"
   ]
  },
  {
   "cell_type": "markdown",
   "metadata": {},
   "source": [
    "## XFlyr Interface"
   ]
  },
  {
   "cell_type": "code",
   "execution_count": 7,
   "metadata": {
    "collapsed": true
   },
   "outputs": [],
   "source": [
    "#\n",
    "# If we have time we should do this too but it would involve modifing \n",
    "# XFlyr's source code\n",
    "#"
   ]
  },
  {
   "cell_type": "markdown",
   "metadata": {},
   "source": [
    "## VEGA Algorithm"
   ]
  },
  {
   "cell_type": "markdown",
   "metadata": {},
   "source": [
    "### Initial Population Generation"
   ]
  },
  {
   "cell_type": "code",
   "execution_count": 8,
   "metadata": {
    "collapsed": true
   },
   "outputs": [],
   "source": [
    "def generate_initial_population(population_size, num_of_pts):\n",
    "    population = []\n",
    "    x = np.linspace(-0.001, -0.1, population_size)\n",
    "    i = 0\n",
    "    while i < population_size:\n",
    "        # This could change depending on what sort of starting\n",
    "        # conditions we have\n",
    "        population.append(generate_airfoil(num_of_pts, x[i], 0))\n",
    "        i+=1\n",
    "    return population"
   ]
  },
  {
   "cell_type": "markdown",
   "metadata": {},
   "source": [
    "### Fitness Calculation"
   ]
  },
  {
   "cell_type": "code",
   "execution_count": 9,
   "metadata": {
    "collapsed": true
   },
   "outputs": [],
   "source": [
    "def compute_airfoil_fitness_conditionA(airfoil):\n",
    "    #\n",
    "    # To Do Involves Running Xfoil\n",
    "    #\n",
    "    return airfoil"
   ]
  },
  {
   "cell_type": "code",
   "execution_count": 10,
   "metadata": {
    "collapsed": true
   },
   "outputs": [],
   "source": [
    "def compute_airfoil_fitness_conditionB(airfoil):\n",
    "    #\n",
    "    # To Do Involves Running Xfoil\n",
    "    #\n",
    "    return airfoil"
   ]
  },
  {
   "cell_type": "markdown",
   "metadata": {},
   "source": [
    "### Crossover"
   ]
  },
  {
   "cell_type": "code",
   "execution_count": 11,
   "metadata": {
    "collapsed": true
   },
   "outputs": [],
   "source": [
    "def airfoil_crossover(airfoil1, airfoil2):\n",
    "    child = []\n",
    "    for i in range(len(airfoil1)):\n",
    "        if (int(100 * random.random()) < 50):\n",
    "            child.append([airfoil1[i,0], airfoil1[i,1]])\n",
    "        else:\n",
    "            child.append([airfoil2[i,0], airfoil2[i,1]])\n",
    "    return np.vstack(child)"
   ]
  },
  {
   "cell_type": "code",
   "execution_count": 12,
   "metadata": {
    "collapsed": true
   },
   "outputs": [],
   "source": [
    "def select_best_airfoils(sorted_population):\n",
    "    #\n",
    "    # To Do may be different depending on the algorithm chosen\n",
    "    #\n",
    "    next_generation = []\n",
    "    "
   ]
  },
  {
   "cell_type": "code",
   "execution_count": 13,
   "metadata": {
    "collapsed": true
   },
   "outputs": [],
   "source": [
    "def population_crossover(population):\n",
    "    #\n",
    "    # To Do\n",
    "    #\n",
    "    return population"
   ]
  },
  {
   "cell_type": "markdown",
   "metadata": {},
   "source": [
    "### Mutation"
   ]
  },
  {
   "cell_type": "code",
   "execution_count": 14,
   "metadata": {
    "collapsed": true
   },
   "outputs": [],
   "source": [
    "def airfoil_mutation(airfoil, mutation_rate):\n",
    "    index_modification = abs(int(random.random() * 10)) + 1\n",
    "    for i in range(len(airfoil)):\n",
    "        if (i + index_modification) % 2 == 0:\n",
    "            airfoil[i,0] = airfoil[i,0] + mutation_rate*airfoil[i,0]\n",
    "            airfoil[i,1] = airfoil[i,1] + mutation_rate*airfoil[i,1]\n",
    "    return airfoil"
   ]
  },
  {
   "cell_type": "code",
   "execution_count": 15,
   "metadata": {
    "collapsed": true
   },
   "outputs": [],
   "source": [
    "def population_mutation(airfoil_population, mutation_probability):\n",
    "    for i in range(len(airfoil_population)):\n",
    "        if random.random() * 100 < mutation_probability:\n",
    "            airfoil_population[i] = airfoil_mutation(airfoil_population[i])\n",
    "    return airfoil_population"
   ]
  },
  {
   "cell_type": "markdown",
   "metadata": {},
   "source": [
    "### VEGA Main Loop"
   ]
  },
  {
   "cell_type": "code",
   "execution_count": 16,
   "metadata": {
    "collapsed": true
   },
   "outputs": [],
   "source": [
    "def VEGA(population_size, num_of_pts, num_generations, tol):\n",
    "    #\n",
    "    #\n",
    "    # I am still working on this\n",
    "    #\n",
    "    #\n",
    "    population = generate_initial_population(population_size, num_of_pts)\n",
    "    best_fitness = 100; # just an arbitrary number\n",
    "    \n",
    "    K = 2\n",
    "    Ns = population_size/K\n",
    "    \n",
    "    n = 0\n",
    "    while n < num_generations or best_fitness < tol:\n",
    "        #\n",
    "        # This is to find the best fit\n",
    "        #\n",
    "        breeders = select_best_airfoils(population)\n",
    "        population = population_crossover(breeders)\n",
    "        population = population_mutation(population)\n",
    "        n += 1\n",
    "            \n",
    "    return population"
   ]
  },
  {
   "cell_type": "markdown",
   "metadata": {},
   "source": [
    "## Diagnostics/Extra Tools"
   ]
  },
  {
   "cell_type": "code",
   "execution_count": 17,
   "metadata": {
    "collapsed": true
   },
   "outputs": [],
   "source": [
    "def plot_airfoil(airfoil):\n",
    "    plt.plot(airfoil[:,0], airfoil[:,1])\n",
    "    plt.axis('equal')\n",
    "    plt.show()"
   ]
  },
  {
   "cell_type": "code",
   "execution_count": 18,
   "metadata": {
    "collapsed": true
   },
   "outputs": [],
   "source": [
    "def sample_fitness_function(true_airfoil, test_airfoil):\n",
    "    tol = 0.1\n",
    "    score = 0\n",
    "    i = 0\n",
    "    while (i < len(true_airfoil)):\n",
    "        if ((true_airfoil[i][0]-tol) <= test_airfoil[i][0] <= (true_airfoil[i][0]+tol) and \n",
    "            (true_airfoil[i][1]-tol) <= test_airfoil[i][1] <= (true_airfoil[i][1]+tol) ):\n",
    "            score+=1\n",
    "        i+=1\n",
    "    return score * 100 / len(true_airfoil)"
   ]
  },
  {
   "cell_type": "markdown",
   "metadata": {},
   "source": [
    "## Test Area"
   ]
  },
  {
   "cell_type": "code",
   "execution_count": 29,
   "metadata": {},
   "outputs": [
    {
     "data": {
      "image/png": "[encoded data removed]",
      "text/plain": [
       "<matplotlib.figure.Figure at 0x16507dc3128>"
      ]
     },
     "metadata": {},
     "output_type": "display_data"
    },
    {
     "data": {
      "image/png": "[encoded data removed]",
      "text/plain": [
       "<matplotlib.figure.Figure at 0x16507dc3048>"
      ]
     },
     "metadata": {},
     "output_type": "display_data"
    }
   ],
   "source": [
    "#\n",
    "# Area to test functions\n",
    "#\n",
    "airfoil1 = generate_airfoil(100,-0.05, 0)\n",
    "airfoil2 = generate_airfoil(100,-0.04, 0)\n",
    "plot_airfoil(airfoil1)\n",
    "plot_airfoil(airfoil2)"
   ]
  },
  {
   "cell_type": "code",
   "execution_count": 37,
   "metadata": {},
   "outputs": [],
   "source": [
    "write_airfoil(airfoil_mutation(airfoil1, 0.1), 'data/mut')\n",
    "run_xfoil('data/mut', 10, 100000000)"
   ]
  },
  {
   "cell_type": "code",
   "execution_count": null,
   "metadata": {
    "collapsed": true
   },
   "outputs": [],
   "source": []
  }
 ],
 "metadata": {
  "kernelspec": {
   "display_name": "Python 3",
   "language": "python",
   "name": "python3"
  },
  "language_info": {
   "codemirror_mode": {
    "name": "ipython",
    "version": 3
   },
   "file_extension": ".py",
   "mimetype": "text/x-python",
   "name": "python",
   "nbconvert_exporter": "python",
   "pygments_lexer": "ipython3",
   "version": "3.6.1"
  }
 },
 "nbformat": 4,
 "nbformat_minor": 2
}
