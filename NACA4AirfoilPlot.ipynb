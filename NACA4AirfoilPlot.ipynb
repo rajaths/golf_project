{
 "cells": [
  {
   "cell_type": "code",
   "execution_count": 2,
   "metadata": {
    "collapsed": true
   },
   "outputs": [],
   "source": [
    "import math\n",
    "import matplotlib.pyplot as pyplot\n",
    "import numpy as np"
   ]
  },
  {
   "cell_type": "code",
   "execution_count": 3,
   "metadata": {
    "collapsed": true
   },
   "outputs": [],
   "source": [
    "def camber_line( x, m, p, c ):\n",
    "    return np.where((x>=0)&(x<=(c*p)),\n",
    "                    m * (x / np.power(p,2)) * (2.0 * p - (x / c)),\n",
    "                    m * ((c - x) / np.power(1-p,2)) * (1.0 + (x / c) - 2.0 * p ))"
   ]
  },
  {
   "cell_type": "code",
   "execution_count": 4,
   "metadata": {
    "collapsed": true
   },
   "outputs": [],
   "source": [
    "def dyc_over_dx( x, m, p, c ):\n",
    "    return np.where((x>=0)&(x<=(c*p)),\n",
    "                    ((2.0 * m) / np.power(p,2)) * (p - x / c),\n",
    "                    ((2.0 * m ) / np.power(1-p,2)) * (p - x / c ))"
   ]
  },
  {
   "cell_type": "code",
   "execution_count": 5,
   "metadata": {
    "collapsed": true
   },
   "outputs": [],
   "source": [
    "def thickness( x, t, c ):\n",
    "    term1 =  0.2969 * (np.sqrt(x/c))\n",
    "    term2 = -0.1260 * (x/c)\n",
    "    term3 = -0.3516 * np.power(x/c,2)\n",
    "    term4 =  0.2843 * np.power(x/c,3)\n",
    "    term5 = -0.1015 * np.power(x/c,4)\n",
    "    return 5 * t * c * (term1 + term2 + term3 + term4 + term5)"
   ]
  },
  {
   "cell_type": "code",
   "execution_count": 6,
   "metadata": {
    "collapsed": true
   },
   "outputs": [],
   "source": [
    "def naca4(x, m, p, t, c=1):\n",
    "    dyc_dx = dyc_over_dx(x, m, p, c)\n",
    "    th = np.arctan(dyc_dx)\n",
    "    yt = thickness(x, t, c)\n",
    "    yc = camber_line(x, m, p, c)  \n",
    "    return ((x - yt*np.sin(th), yc + yt*np.cos(th)), \n",
    "            (x + yt*np.sin(th), yc - yt*np.cos(th)))"
   ]
  },
  {
   "cell_type": "code",
   "execution_count": 7,
   "metadata": {},
   "outputs": [
    {
     "data": {
      "image/png": "[encoded data removed]",
      "text/plain": [
       "<matplotlib.figure.Figure at 0x1c7fe1440b8>"
      ]
     },
     "metadata": {},
     "output_type": "display_data"
    },
    {
     "name": "stdout",
     "output_type": "stream",
     "text": [
      "[array([ 0.        ,  0.00502513,  0.01005025,  0.01507538,  0.0201005 ,\n",
      "        0.02512563,  0.03015075,  0.03517588,  0.04020101,  0.04522613,\n",
      "        0.05025126,  0.05527638,  0.06030151,  0.06532663,  0.07035176,\n",
      "        0.07537688,  0.08040201,  0.08542714,  0.09045226,  0.09547739,\n",
      "        0.10050251,  0.10552764,  0.11055276,  0.11557789,  0.12060302,\n",
      "        0.12562814,  0.13065327,  0.13567839,  0.14070352,  0.14572864,\n",
      "        0.15075377,  0.15577889,  0.16080402,  0.16582915,  0.17085427,\n",
      "        0.1758794 ,  0.18090452,  0.18592965,  0.19095477,  0.1959799 ,\n",
      "        0.20100503,  0.20603015,  0.21105528,  0.2160804 ,  0.22110553,\n",
      "        0.22613065,  0.23115578,  0.2361809 ,  0.24120603,  0.24623116,\n",
      "        0.25125628,  0.25628141,  0.26130653,  0.26633166,  0.27135678,\n",
      "        0.27638191,  0.28140704,  0.28643216,  0.29145729,  0.29648241,\n",
      "        0.30150754,  0.30653266,  0.31155779,  0.31658291,  0.32160804,\n",
      "        0.32663317,  0.33165829,  0.33668342,  0.34170854,  0.34673367,\n",
      "        0.35175879,  0.35678392,  0.36180905,  0.36683417,  0.3718593 ,\n",
      "        0.37688442,  0.38190955,  0.38693467,  0.3919598 ,  0.39698492,\n",
      "        0.40201005,  0.40703518,  0.4120603 ,  0.41708543,  0.42211055,\n",
      "        0.42713568,  0.4321608 ,  0.43718593,  0.44221106,  0.44723618,\n",
      "        0.45226131,  0.45728643,  0.46231156,  0.46733668,  0.47236181,\n",
      "        0.47738693,  0.48241206,  0.48743719,  0.49246231,  0.49748744,\n",
      "        0.50251256,  0.50753769,  0.51256281,  0.51758794,  0.52261307,\n",
      "        0.52763819,  0.53266332,  0.53768844,  0.54271357,  0.54773869,\n",
      "        0.55276382,  0.55778894,  0.56281407,  0.5678392 ,  0.57286432,\n",
      "        0.57788945,  0.58291457,  0.5879397 ,  0.59296482,  0.59798995,\n",
      "        0.60301508,  0.6080402 ,  0.61306533,  0.61809045,  0.62311558,\n",
      "        0.6281407 ,  0.63316583,  0.63819095,  0.64321608,  0.64824121,\n",
      "        0.65326633,  0.65829146,  0.66331658,  0.66834171,  0.67336683,\n",
      "        0.67839196,  0.68341709,  0.68844221,  0.69346734,  0.69849246,\n",
      "        0.70351759,  0.70854271,  0.71356784,  0.71859296,  0.72361809,\n",
      "        0.72864322,  0.73366834,  0.73869347,  0.74371859,  0.74874372,\n",
      "        0.75376884,  0.75879397,  0.7638191 ,  0.76884422,  0.77386935,\n",
      "        0.77889447,  0.7839196 ,  0.78894472,  0.79396985,  0.79899497,\n",
      "        0.8040201 ,  0.80904523,  0.81407035,  0.81909548,  0.8241206 ,\n",
      "        0.82914573,  0.83417085,  0.83919598,  0.84422111,  0.84924623,\n",
      "        0.85427136,  0.85929648,  0.86432161,  0.86934673,  0.87437186,\n",
      "        0.87939698,  0.88442211,  0.88944724,  0.89447236,  0.89949749,\n",
      "        0.90452261,  0.90954774,  0.91457286,  0.91959799,  0.92462312,\n",
      "        0.92964824,  0.93467337,  0.93969849,  0.94472362,  0.94974874,\n",
      "        0.95477387,  0.95979899,  0.96482412,  0.96984925,  0.97487437,\n",
      "        0.9798995 ,  0.98492462,  0.98994975,  0.99497487,  1.        ]), array([ 0.        ,  0.00622817,  0.01170726,  0.01705679,  0.02233684,\n",
      "        0.027571  ,  0.03277157,  0.03794594,  0.04309902,  0.04823424,\n",
      "        0.05335418,  0.05846078,  0.0635556 ,  0.0686399 ,  0.07371471,\n",
      "        0.0787809 ,  0.0838392 ,  0.08889026,  0.09393464,  0.09897282,\n",
      "        0.10400524,  0.10903228,  0.1140543 ,  0.11907162,  0.12408453,\n",
      "        0.12909328,  0.13409813,  0.1390993 ,  0.14409699,  0.14909141,\n",
      "        0.15408273,  0.15907112,  0.16405675,  0.16903977,  0.17402031,\n",
      "        0.17899851,  0.18397451,  0.18894841,  0.19392034,  0.19889041,\n",
      "        0.20385872,  0.20882537,  0.21379045,  0.21875407,  0.2237163 ,\n",
      "        0.22867724,  0.23363696,  0.23859555,  0.24355307,  0.24850961,\n",
      "        0.25346522,  0.25841999,  0.26337398,  0.26832724,  0.27327985,\n",
      "        0.27823186,  0.28318333,  0.28813431,  0.29308486,  0.29803504,\n",
      "        0.30298489,  0.30793446,  0.3128838 ,  0.31783297,  0.32278199,\n",
      "        0.32773093,  0.33267982,  0.3376287 ,  0.34257762,  0.34752661,\n",
      "        0.35247572,  0.35742498,  0.36237443,  0.3673241 ,  0.37227403,\n",
      "        0.37722426,  0.38217481,  0.38712572,  0.39207702,  0.39702875,\n",
      "        0.40199711,  0.40699003,  0.41198317,  0.41697656,  0.42197019,\n",
      "        0.42696409,  0.43195826,  0.43695272,  0.44194748,  0.44694254,\n",
      "        0.45193793,  0.45693364,  0.46192969,  0.46692608,  0.47192284,\n",
      "        0.47691996,  0.48191746,  0.48691535,  0.49191363,  0.49691232,\n",
      "        0.50191141,  0.50691093,  0.51191087,  0.51691125,  0.52191208,\n",
      "        0.52691335,  0.53191509,  0.53691729,  0.54191997,  0.54692313,\n",
      "        0.55192678,  0.55693092,  0.56193556,  0.56694072,  0.57194638,\n",
      "        0.57695257,  0.58195929,  0.58696654,  0.59197434,  0.59698268,\n",
      "        0.60199157,  0.60700102,  0.61201104,  0.61702162,  0.62203279,\n",
      "        0.62704453,  0.63205686,  0.63706979,  0.64208331,  0.64709744,\n",
      "        0.65211218,  0.65712753,  0.6621435 ,  0.6671601 ,  0.67217732,\n",
      "        0.67719519,  0.68221369,  0.68723285,  0.69225265,  0.69727311,\n",
      "        0.70229423,  0.70731602,  0.71233848,  0.71736162,  0.72238544,\n",
      "        0.72740996,  0.73243516,  0.73746106,  0.74248767,  0.74751498,\n",
      "        0.75254301,  0.75757176,  0.76260123,  0.76763143,  0.77266237,\n",
      "        0.77769405,  0.78272648,  0.78775965,  0.79279359,  0.79782829,\n",
      "        0.80286376,  0.8079    ,  0.81293702,  0.81797483,  0.82301343,\n",
      "        0.82805283,  0.83309303,  0.83813405,  0.84317588,  0.84821853,\n",
      "        0.85326201,  0.85830633,  0.86335149,  0.8683975 ,  0.87344437,\n",
      "        0.8784921 ,  0.88354069,  0.88859017,  0.89364053,  0.89869178,\n",
      "        0.90374392,  0.90879698,  0.91385095,  0.91890584,  0.92396165,\n",
      "        0.92901841,  0.93407611,  0.93913476,  0.94419438,  0.94925497,\n",
      "        0.95431653,  0.95937908,  0.96444264,  0.96950719,  0.97457276,\n",
      "        0.97963936,  0.98470699,  0.98977567,  0.99484539,  0.99991619]), array([ 0.        , -0.0116842 , -0.01600479, -0.01911105, -0.02158706,\n",
      "       -0.02365911, -0.02544328, -0.0270086 , -0.02840004, -0.02964888,\n",
      "       -0.03077795, -0.03180447, -0.03274186, -0.03360082, -0.03439003,\n",
      "       -0.03511668, -0.03578678, -0.03640543, -0.03697702, -0.03750533,\n",
      "       -0.03799368, -0.03844498, -0.03886182, -0.03924649, -0.03960108,\n",
      "       -0.03992743, -0.04022724, -0.04050204, -0.04075324, -0.04098212,\n",
      "       -0.04118987, -0.04137758, -0.04154627, -0.04169688, -0.04183029,\n",
      "       -0.04194731, -0.04204871, -0.04213523, -0.04220752, -0.04226624,\n",
      "       -0.04231198, -0.04234532, -0.0423668 , -0.04237692, -0.04237618,\n",
      "       -0.04236504, -0.04234395, -0.04231332, -0.04227357, -0.04222508,\n",
      "       -0.04216821, -0.04210333, -0.04203078, -0.04195088, -0.04186395,\n",
      "       -0.04177029, -0.04167021, -0.04156397, -0.04145186, -0.04133413,\n",
      "       -0.04121105, -0.04108285, -0.04094978, -0.04081208, -0.04066995,\n",
      "       -0.04052363, -0.04037331, -0.04021922, -0.04006153, -0.03990046,\n",
      "       -0.03973619, -0.03956889, -0.03939875, -0.03922594, -0.03905063,\n",
      "       -0.03887298, -0.03869315, -0.0385113 , -0.03832758, -0.03814214,\n",
      "       -0.03795485, -0.0377633 , -0.03756701, -0.03736613, -0.03716077,\n",
      "       -0.03695107, -0.03673715, -0.03651912, -0.03629711, -0.03607124,\n",
      "       -0.0358416 , -0.03560832, -0.03537149, -0.03513123, -0.03488764,\n",
      "       -0.0346408 , -0.03439083, -0.03413781, -0.03388184, -0.033623  ,\n",
      "       -0.03336139, -0.03309709, -0.03283018, -0.03256075, -0.03228887,\n",
      "       -0.03201462, -0.03173807, -0.03145931, -0.0311784 , -0.03089541,\n",
      "       -0.0306104 , -0.03032345, -0.03003463, -0.02974398, -0.02945157,\n",
      "       -0.02915747, -0.02886172, -0.02856439, -0.02826553, -0.02796519,\n",
      "       -0.02766342, -0.02736027, -0.02705579, -0.02675003, -0.02644303,\n",
      "       -0.02613483, -0.02582548, -0.02551501, -0.02520347, -0.02489089,\n",
      "       -0.02457731, -0.02426276, -0.02394728, -0.02363089, -0.02331363,\n",
      "       -0.02299553, -0.02267662, -0.02235691, -0.02203644, -0.02171523,\n",
      "       -0.02139331, -0.02107068, -0.02074738, -0.02042343, -0.02009883,\n",
      "       -0.0197736 , -0.01944777, -0.01912134, -0.01879432, -0.01846673,\n",
      "       -0.01813858, -0.01780987, -0.01748062, -0.01715082, -0.01682049,\n",
      "       -0.01648962, -0.01615822, -0.0158263 , -0.01549384, -0.01516086,\n",
      "       -0.01482734, -0.01449329, -0.0141587 , -0.01382357, -0.01348788,\n",
      "       -0.01315164, -0.01281482, -0.01247743, -0.01213944, -0.01180086,\n",
      "       -0.01146166, -0.01112183, -0.01078135, -0.01044021, -0.01009839,\n",
      "       -0.00975587, -0.00941263, -0.00906864, -0.0087239 , -0.00837837,\n",
      "       -0.00803203, -0.00768485, -0.00733681, -0.00698788, -0.00663803,\n",
      "       -0.00628723, -0.00593545, -0.00558265, -0.00522882, -0.0048739 ,\n",
      "       -0.00451787, -0.0041607 , -0.00380233, -0.00344274, -0.00308189,\n",
      "       -0.00271973, -0.00235622, -0.00199133, -0.00162501, -0.00125721])]\n"
     ]
    }
   ],
   "source": [
    "#naca2412 \n",
    "m = 0.02\n",
    "p = 0.4\n",
    "t = 0.12\n",
    "c = 1.0\n",
    "\n",
    "x = np.linspace(0,1,200)\n",
    "for item in naca4(x, m, p, t, c):\n",
    "    pyplot.plot(item[0], item[1], 'b')\n",
    "pyplot.plot(x, camber_line(x, m, p, c), 'r')\n",
    "pyplot.axis('equal')\n",
    "pyplot.xlim((-0.05, 1.05))\n",
    "# figure.set_size_inches(16,16,forward=True)\n",
    "pyplot.show()\n",
    "\n",
    "itemlist = list(item)\n",
    "y_abovelist, y_belowlist = map(list, zip(itemlist))\n",
    "y_abovearray = np.squeeze(np.asarray(y_abovelist))\n",
    "y_belowarray = np.squeeze(np.asarray(y_belowlist))\n",
    "x_list = list(x)\n",
    "\n",
    "list_of_lists = list([x, y_abovearray, y_belowarray])\n",
    "\n",
    "#for a in zip(*list_of_lists):\n",
    "#    print(*a)\n",
    "print(list_of_lists)"
   ]
  },
  {
   "cell_type": "code",
   "execution_count": null,
   "metadata": {
    "collapsed": true
   },
   "outputs": [],
   "source": []
  }
 ],
 "metadata": {
  "kernelspec": {
   "display_name": "Python 3",
   "language": "python",
   "name": "python3"
  },
  "language_info": {
   "codemirror_mode": {
    "name": "ipython",
    "version": 3
   },
   "file_extension": ".py",
   "mimetype": "text/x-python",
   "name": "python",
   "nbconvert_exporter": "python",
   "pygments_lexer": "ipython3",
   "version": "3.6.1"
  }
 },
 "nbformat": 4,
 "nbformat_minor": 2
}
